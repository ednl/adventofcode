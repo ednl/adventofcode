{
 "cells": [
  {
   "cell_type": "code",
   "execution_count": 6,
   "metadata": {},
   "outputs": [],
   "source": [
    "def gray(n):\n",
    "    return n ^ (n >> 1)\n",
    "\n",
    "def bit(n):\n",
    "    if n == 0:\n",
    "        return -1\n",
    "    i = 0\n",
    "    while n & (1 << i) == 0:\n",
    "        i += 1\n",
    "    return i\n",
    "\n",
    "def graybits(pow):\n",
    "    i = prev = 0\n",
    "    lim = (1 << pow) - 1\n",
    "    flip = []\n",
    "    while i < lim:\n",
    "        i += 1\n",
    "        g = gray(i)\n",
    "        flip.append(bit(g ^ prev))\n",
    "        prev = g\n",
    "    return flip"
   ]
  },
  {
   "cell_type": "code",
   "execution_count": 8,
   "metadata": {},
   "outputs": [
    {
     "name": "stdout",
     "output_type": "stream",
     "text": [
      "[0, 1, 0, 2, 0, 1, 0, 3, 0, 1, 0, 2, 0, 1, 0]\n"
     ]
    }
   ],
   "source": [
    "print(graybits(4))"
   ]
  },
  {
   "cell_type": "code",
   "execution_count": 9,
   "metadata": {},
   "outputs": [],
   "source": [
    "masks = []\n",
    "stores = []\n",
    "tmp = []\n",
    "\n",
    "with open('../aocinput/2020-14-input.txt') as f:\n",
    "    for line in f:\n",
    "        if line[1] == 'a':\n",
    "            masks.append(line[7:-1])\n",
    "            if len(tmp):\n",
    "                stores.append(tmp)\n",
    "                tmp = []\n",
    "        else:\n",
    "            tmp.append(list(map(int, line[4:].split('] = '))))\n",
    "\n",
    "stores.append(tmp)\n",
    "data = list(zip(masks, stores))"
   ]
  },
  {
   "cell_type": "code",
   "execution_count": 10,
   "metadata": {},
   "outputs": [
    {
     "name": "stdout",
     "output_type": "stream",
     "text": [
      "3260587250457\n"
     ]
    }
   ],
   "source": [
    "mem = {}\n",
    "for mask, store in data:\n",
    "    unset_or = int(mask.replace('X', '0'), 2)\n",
    "    posx, _ = zip(*filter(lambda x: x[1] == 'X', zip(range(len(mask) - 1, -1, -1), mask)))\n",
    "    for xvalue in range(1 << len(posx)):\n",
    "        ma = -1\n",
    "        mo = unset_or\n",
    "        bitpos = 1 << len(posx)\n",
    "        for ix in posx:           # adjust the bits at every position ix where mask=X\n",
    "            bitpos >>= 1          # check every bit in the xvalue\n",
    "            if xvalue & bitpos:\n",
    "                mo |= (1 << ix)   # set bit in the or-mask at position ix\n",
    "            else:\n",
    "                ma &= ~(1 << ix)  # unset bit in the and-mask at position ix\n",
    "        for addr, val in store:\n",
    "            mem[addr & ma | mo] = val\n",
    "\n",
    "print(sum(mem.values()))"
   ]
  },
  {
   "cell_type": "code",
   "execution_count": null,
   "metadata": {},
   "outputs": [],
   "source": [
    "mem = {}\n",
    "for mask, store in data:\n",
    "    ma = -1\n",
    "    mo = int(mask.replace('X', '0'), 2)\n",
    "    i = 0\n",
    "    g = 0\n",
    "    for addr, val in store:\n",
    "        mem[addr & ma | mo] = val"
   ]
  }
 ],
 "metadata": {
  "kernelspec": {
   "display_name": "Python 3",
   "language": "python",
   "name": "python3"
  },
  "language_info": {
   "codemirror_mode": {
    "name": "ipython",
    "version": 3
   },
   "file_extension": ".py",
   "mimetype": "text/x-python",
   "name": "python",
   "nbconvert_exporter": "python",
   "pygments_lexer": "ipython3",
   "version": "3.9.1"
  }
 },
 "nbformat": 4,
 "nbformat_minor": 4
}
